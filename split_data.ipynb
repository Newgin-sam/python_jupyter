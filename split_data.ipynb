{
 "cells": [
  {
   "cell_type": "code",
   "execution_count": 1,
   "metadata": {},
   "outputs": [],
   "source": [
    "import os\n",
    "import shutil\n",
    "from sklearn.model_selection import train_test_split\n",
    "\n",
    "# Define the paths\n",
    "base_dir = '/home/pathway/mydisk/HIPT/data/all_crop_combined'\n",
    "images_dir = os.path.join(base_dir, 'images')\n",
    "labels_dir = os.path.join(base_dir, 'labels')\n",
    "\n",
    "# Get the list of all image filenames without the extension\n",
    "images = [img for img in os.listdir(images_dir) if img.endswith('.png')]\n",
    "\n",
    "images.sort()\n",
    "\n",
    "# Split the dataset into train+val and test\n",
    "train_val_images, test_images = train_test_split(images, test_size=0.2, random_state=42)\n",
    "\n",
    "# Split the train+val into train and val\n",
    "train_images, val_images = train_test_split(train_val_images, test_size=0.125, random_state=42)  # 0.125 x 0.8 = 0.1\n",
    "\n"
   ]
  },
  {
   "cell_type": "code",
   "execution_count": 2,
   "metadata": {},
   "outputs": [],
   "source": [
    "# Function to copy files\n",
    "def copy_files(file_list, source_dir, dest_dir):\n",
    "    for filename in file_list:\n",
    "        # Construct the full file paths\n",
    "        source_image = os.path.join(source_dir, filename )\n",
    "        dest_image = os.path.join(dest_dir, 'images', filename )\n",
    "        source_label = os.path.join(source_dir.replace('images', 'labels'), filename.replace('image','mask'))\n",
    "        dest_label = os.path.join(dest_dir, 'labels', filename.replace('image','mask'))\n",
    "        \n",
    "        # Create directories if they don't exist\n",
    "        os.makedirs(os.path.dirname(dest_image), exist_ok=True)\n",
    "        os.makedirs(os.path.dirname(dest_label), exist_ok=True)\n",
    "        \n",
    "        # Copy files\n",
    "        shutil.copy2(source_image, dest_image)\n",
    "        shutil.copy2(source_label, dest_label)\n",
    "\n"
   ]
  },
  {
   "cell_type": "code",
   "execution_count": 3,
   "metadata": {},
   "outputs": [
    {
     "name": "stdout",
     "output_type": "stream",
     "text": [
      "Dataset successfully split and copied.\n"
     ]
    }
   ],
   "source": [
    "# Copy the files to their respective directories\n",
    "copy_files(train_images, images_dir, os.path.join(base_dir, 'train'))\n",
    "copy_files(test_images, images_dir, os.path.join(base_dir, 'test'))\n",
    "copy_files(val_images, images_dir, os.path.join(base_dir, 'valid'))\n",
    "\n",
    "print(\"Dataset successfully split and copied.\")"
   ]
  },
  {
   "cell_type": "code",
   "execution_count": null,
   "metadata": {},
   "outputs": [],
   "source": []
  }
 ],
 "metadata": {
  "kernelspec": {
   "display_name": "py38",
   "language": "python",
   "name": "python3"
  },
  "language_info": {
   "codemirror_mode": {
    "name": "ipython",
    "version": 3
   },
   "file_extension": ".py",
   "mimetype": "text/x-python",
   "name": "python",
   "nbconvert_exporter": "python",
   "pygments_lexer": "ipython3",
   "version": "3.8.13"
  }
 },
 "nbformat": 4,
 "nbformat_minor": 2
}
